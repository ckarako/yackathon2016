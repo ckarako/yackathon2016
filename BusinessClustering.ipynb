{
 "cells": [
  {
   "cell_type": "code",
   "execution_count": 4,
   "metadata": {
    "collapsed": true
   },
   "outputs": [],
   "source": [
    "%matplotlib inline"
   ]
  },
  {
   "cell_type": "code",
   "execution_count": 54,
   "metadata": {
    "collapsed": false
   },
   "outputs": [],
   "source": [
    "import numpy as np\n",
    "import matplotlib.pyplot as plt"
   ]
  },
  {
   "cell_type": "code",
   "execution_count": 55,
   "metadata": {
    "collapsed": false,
    "scrolled": true
   },
   "outputs": [
    {
     "ename": "ImportError",
     "evalue": "No module named basemap",
     "output_type": "error",
     "traceback": [
      "\u001b[0;31m---------------------------------------------------------------------------\u001b[0m",
      "\u001b[0;31mImportError\u001b[0m                               Traceback (most recent call last)",
      "\u001b[0;32m<ipython-input-55-5e6824321d57>\u001b[0m in \u001b[0;36m<module>\u001b[0;34m()\u001b[0m\n\u001b[0;32m----> 1\u001b[0;31m \u001b[0;32mfrom\u001b[0m \u001b[0mmpl_toolkits\u001b[0m\u001b[0;34m.\u001b[0m\u001b[0mbasemap\u001b[0m \u001b[0;32mimport\u001b[0m \u001b[0mBasemap\u001b[0m\u001b[0;34m\u001b[0m\u001b[0m\n\u001b[0m",
      "\u001b[0;31mImportError\u001b[0m: No module named basemap"
     ]
    }
   ],
   "source": [
    "from mpl_toolkits.basemap import Basemap"
   ]
  },
  {
   "cell_type": "code",
   "execution_count": 5,
   "metadata": {
    "collapsed": true
   },
   "outputs": [],
   "source": [
    "import sklearn"
   ]
  },
  {
   "cell_type": "code",
   "execution_count": 6,
   "metadata": {
    "collapsed": false
   },
   "outputs": [],
   "source": [
    "from sklearn.cluster import k_means"
   ]
  },
  {
   "cell_type": "code",
   "execution_count": 7,
   "metadata": {
    "collapsed": true
   },
   "outputs": [],
   "source": [
    "import json"
   ]
  },
  {
   "cell_type": "code",
   "execution_count": 8,
   "metadata": {
    "collapsed": true
   },
   "outputs": [],
   "source": [
    "business_json = \"../yelp_academic_dataset_business.json\""
   ]
  },
  {
   "cell_type": "code",
   "execution_count": 9,
   "metadata": {
    "collapsed": true
   },
   "outputs": [],
   "source": [
    "import pandas as pd"
   ]
  },
  {
   "cell_type": "code",
   "execution_count": 6,
   "metadata": {
    "collapsed": true
   },
   "outputs": [],
   "source": [
    "f = open(business_json, 'r')"
   ]
  },
  {
   "cell_type": "code",
   "execution_count": null,
   "metadata": {
    "collapsed": true
   },
   "outputs": [],
   "source": [
    "data = []\n"
   ]
  },
  {
   "cell_type": "code",
   "execution_count": 10,
   "metadata": {
    "collapsed": true
   },
   "outputs": [],
   "source": [
    "# from Patrick's notebook\n",
    "BUSINESSES = \"../yelp_dataset_challenge_academic_dataset/yelp_academic_dataset_business.json\""
   ]
  },
  {
   "cell_type": "code",
   "execution_count": 11,
   "metadata": {
    "collapsed": true
   },
   "outputs": [],
   "source": [
    "COLS_TO_READ = ['state', 'longitude', 'latitude', 'name', 'stars']"
   ]
  },
  {
   "cell_type": "code",
   "execution_count": 12,
   "metadata": {
    "collapsed": true
   },
   "outputs": [],
   "source": [
    "ff = open(BUSINESSES)\n",
    "results = []\n",
    "dfs = []\n",
    "categories = set()\n",
    "for line in ff.xreadlines():\n",
    "    result = json.loads(line)\n",
    "    if (result['state'] == 'QC'):# and ('Restaurants' in result['categories']):\n",
    "        dfs.append(pd.DataFrame(result, columns=COLS_TO_READ, index=pd.Index([result['business_id']])))\n",
    "df = pd.concat(dfs)\n",
    "del dfs\n",
    "\n",
    "# Set index name to \"business_id\"\n",
    "df.index.name = 'business_id'"
   ]
  },
  {
   "cell_type": "code",
   "execution_count": 14,
   "metadata": {
    "collapsed": false
   },
   "outputs": [
    {
     "data": {
      "text/plain": [
       "Index([u'state', u'longitude', u'latitude', u'name', u'stars'], dtype='object')"
      ]
     },
     "execution_count": 14,
     "metadata": {},
     "output_type": "execute_result"
    }
   ],
   "source": [
    "df.columns"
   ]
  },
  {
   "cell_type": "code",
   "execution_count": 17,
   "metadata": {
    "collapsed": false
   },
   "outputs": [
    {
     "data": {
      "text/html": [
       "<div>\n",
       "<table border=\"1\" class=\"dataframe\">\n",
       "  <thead>\n",
       "    <tr style=\"text-align: right;\">\n",
       "      <th></th>\n",
       "      <th>state</th>\n",
       "      <th>longitude</th>\n",
       "      <th>latitude</th>\n",
       "      <th>name</th>\n",
       "      <th>stars</th>\n",
       "    </tr>\n",
       "    <tr>\n",
       "      <th>business_id</th>\n",
       "      <th></th>\n",
       "      <th></th>\n",
       "      <th></th>\n",
       "      <th></th>\n",
       "      <th></th>\n",
       "    </tr>\n",
       "  </thead>\n",
       "  <tbody>\n",
       "    <tr>\n",
       "      <th>lW9Up8oVTWUEut_R6nZG-g</th>\n",
       "      <td>QC</td>\n",
       "      <td>-73.544570</td>\n",
       "      <td>45.545073</td>\n",
       "      <td>Atomic Café</td>\n",
       "      <td>4.0</td>\n",
       "    </tr>\n",
       "    <tr>\n",
       "      <th>rWmYk-i8EF-g07KnVkdlqQ</th>\n",
       "      <td>QC</td>\n",
       "      <td>-73.542120</td>\n",
       "      <td>45.561749</td>\n",
       "      <td>Restaurant Les Princesses</td>\n",
       "      <td>2.5</td>\n",
       "    </tr>\n",
       "    <tr>\n",
       "      <th>RZma06CqXbOIMzTQL-eJFQ</th>\n",
       "      <td>QC</td>\n",
       "      <td>-73.635581</td>\n",
       "      <td>45.589137</td>\n",
       "      <td>La Cage Aux Sports</td>\n",
       "      <td>2.0</td>\n",
       "    </tr>\n",
       "    <tr>\n",
       "      <th>GxfgoiDLfs7HC8C_wFsGPw</th>\n",
       "      <td>QC</td>\n",
       "      <td>-73.574577</td>\n",
       "      <td>45.548671</td>\n",
       "      <td>Boulangerie Première Moisson</td>\n",
       "      <td>4.5</td>\n",
       "    </tr>\n",
       "    <tr>\n",
       "      <th>e1_MTuBa4LTN1E2RKh53Xg</th>\n",
       "      <td>QC</td>\n",
       "      <td>-73.585389</td>\n",
       "      <td>45.555818</td>\n",
       "      <td>Zytynsky's Deli</td>\n",
       "      <td>4.5</td>\n",
       "    </tr>\n",
       "  </tbody>\n",
       "</table>\n",
       "</div>"
      ],
      "text/plain": [
       "                       state  longitude   latitude  \\\n",
       "business_id                                          \n",
       "lW9Up8oVTWUEut_R6nZG-g    QC -73.544570  45.545073   \n",
       "rWmYk-i8EF-g07KnVkdlqQ    QC -73.542120  45.561749   \n",
       "RZma06CqXbOIMzTQL-eJFQ    QC -73.635581  45.589137   \n",
       "GxfgoiDLfs7HC8C_wFsGPw    QC -73.574577  45.548671   \n",
       "e1_MTuBa4LTN1E2RKh53Xg    QC -73.585389  45.555818   \n",
       "\n",
       "                                                name  stars  \n",
       "business_id                                                  \n",
       "lW9Up8oVTWUEut_R6nZG-g                   Atomic Café    4.0  \n",
       "rWmYk-i8EF-g07KnVkdlqQ     Restaurant Les Princesses    2.5  \n",
       "RZma06CqXbOIMzTQL-eJFQ            La Cage Aux Sports    2.0  \n",
       "GxfgoiDLfs7HC8C_wFsGPw  Boulangerie Première Moisson    4.5  \n",
       "e1_MTuBa4LTN1E2RKh53Xg               Zytynsky's Deli    4.5  "
      ]
     },
     "execution_count": 17,
     "metadata": {},
     "output_type": "execute_result"
    }
   ],
   "source": [
    "df.head()"
   ]
  },
  {
   "cell_type": "code",
   "execution_count": 26,
   "metadata": {
    "collapsed": false,
    "scrolled": true
   },
   "outputs": [
    {
     "data": {
      "text/html": [
       "<div>\n",
       "<table border=\"1\" class=\"dataframe\">\n",
       "  <thead>\n",
       "    <tr style=\"text-align: right;\">\n",
       "      <th></th>\n",
       "      <th>longitude</th>\n",
       "      <th>latitude</th>\n",
       "    </tr>\n",
       "    <tr>\n",
       "      <th>business_id</th>\n",
       "      <th></th>\n",
       "      <th></th>\n",
       "    </tr>\n",
       "  </thead>\n",
       "  <tbody>\n",
       "    <tr>\n",
       "      <th>lW9Up8oVTWUEut_R6nZG-g</th>\n",
       "      <td>-73.544570</td>\n",
       "      <td>45.545073</td>\n",
       "    </tr>\n",
       "    <tr>\n",
       "      <th>rWmYk-i8EF-g07KnVkdlqQ</th>\n",
       "      <td>-73.542120</td>\n",
       "      <td>45.561749</td>\n",
       "    </tr>\n",
       "    <tr>\n",
       "      <th>RZma06CqXbOIMzTQL-eJFQ</th>\n",
       "      <td>-73.635581</td>\n",
       "      <td>45.589137</td>\n",
       "    </tr>\n",
       "    <tr>\n",
       "      <th>GxfgoiDLfs7HC8C_wFsGPw</th>\n",
       "      <td>-73.574577</td>\n",
       "      <td>45.548671</td>\n",
       "    </tr>\n",
       "    <tr>\n",
       "      <th>e1_MTuBa4LTN1E2RKh53Xg</th>\n",
       "      <td>-73.585389</td>\n",
       "      <td>45.555818</td>\n",
       "    </tr>\n",
       "    <tr>\n",
       "      <th>yLj-pKIc-V530j1G6ySQ2Q</th>\n",
       "      <td>-73.552666</td>\n",
       "      <td>45.567943</td>\n",
       "    </tr>\n",
       "    <tr>\n",
       "      <th>IY5GFZTZCywC0ylKuG9ebA</th>\n",
       "      <td>-73.559333</td>\n",
       "      <td>45.540425</td>\n",
       "    </tr>\n",
       "    <tr>\n",
       "      <th>g8Ja8BKskzmWHX9VH7B2yg</th>\n",
       "      <td>-73.566166</td>\n",
       "      <td>45.551943</td>\n",
       "    </tr>\n",
       "    <tr>\n",
       "      <th>Env21pieyFD60kaC0xbmcg</th>\n",
       "      <td>-73.542183</td>\n",
       "      <td>45.584279</td>\n",
       "    </tr>\n",
       "    <tr>\n",
       "      <th>RySnetMQUJKbbtliTt4Nmw</th>\n",
       "      <td>-73.549722</td>\n",
       "      <td>45.559632</td>\n",
       "    </tr>\n",
       "    <tr>\n",
       "      <th>IYdjcA92wjvM5RtPZ3C7kw</th>\n",
       "      <td>-73.559822</td>\n",
       "      <td>45.600332</td>\n",
       "    </tr>\n",
       "    <tr>\n",
       "      <th>pvbBfLIVJ_5sJXUTAKmkng</th>\n",
       "      <td>-73.571050</td>\n",
       "      <td>45.591208</td>\n",
       "    </tr>\n",
       "    <tr>\n",
       "      <th>A9yOopsy2bQgStF3Y6lSyA</th>\n",
       "      <td>-73.539624</td>\n",
       "      <td>45.552822</td>\n",
       "    </tr>\n",
       "    <tr>\n",
       "      <th>dvXKsHW_WIdRbbE_Jsxx3A</th>\n",
       "      <td>-73.548181</td>\n",
       "      <td>45.561379</td>\n",
       "    </tr>\n",
       "    <tr>\n",
       "      <th>JqlT41fOvgMQnbL_ZhLtZw</th>\n",
       "      <td>-73.563716</td>\n",
       "      <td>45.542159</td>\n",
       "    </tr>\n",
       "    <tr>\n",
       "      <th>lj9PHKl7wKvQTHgFc08E-Q</th>\n",
       "      <td>-73.530523</td>\n",
       "      <td>45.603934</td>\n",
       "    </tr>\n",
       "    <tr>\n",
       "      <th>FefB0Lp2Sz0RMZvtgbiuMw</th>\n",
       "      <td>-73.611107</td>\n",
       "      <td>45.598198</td>\n",
       "    </tr>\n",
       "    <tr>\n",
       "      <th>Hn9aFjT-Up_0AJ8ZuIWTBA</th>\n",
       "      <td>-73.591053</td>\n",
       "      <td>45.549392</td>\n",
       "    </tr>\n",
       "    <tr>\n",
       "      <th>gas4eqbnp_dzdA3kith5XA</th>\n",
       "      <td>-73.549423</td>\n",
       "      <td>45.572766</td>\n",
       "    </tr>\n",
       "    <tr>\n",
       "      <th>Ra8dwM6dGUQszCXiUDPf2A</th>\n",
       "      <td>-73.580856</td>\n",
       "      <td>45.595709</td>\n",
       "    </tr>\n",
       "    <tr>\n",
       "      <th>FRoFkp1YGqziKAk5HAj55w</th>\n",
       "      <td>-73.614669</td>\n",
       "      <td>45.560849</td>\n",
       "    </tr>\n",
       "    <tr>\n",
       "      <th>dIcc2Z7m-JcHHLxwCuyfug</th>\n",
       "      <td>-73.594176</td>\n",
       "      <td>45.617234</td>\n",
       "    </tr>\n",
       "    <tr>\n",
       "      <th>fNlndRtXwA270PSmPKnXfQ</th>\n",
       "      <td>-73.550291</td>\n",
       "      <td>45.562381</td>\n",
       "    </tr>\n",
       "    <tr>\n",
       "      <th>kPFS2EnXDFcddYslkaMqKw</th>\n",
       "      <td>-73.561930</td>\n",
       "      <td>45.541350</td>\n",
       "    </tr>\n",
       "    <tr>\n",
       "      <th>6MSbS90XvNHz8-rUWIg1gA</th>\n",
       "      <td>-73.620169</td>\n",
       "      <td>45.557235</td>\n",
       "    </tr>\n",
       "    <tr>\n",
       "      <th>N-m3nClpkmdmOlQfQKpyIA</th>\n",
       "      <td>-73.570672</td>\n",
       "      <td>45.555505</td>\n",
       "    </tr>\n",
       "    <tr>\n",
       "      <th>z5Hd_UOjwiSEGPmOFlSCJw</th>\n",
       "      <td>-73.596630</td>\n",
       "      <td>45.579058</td>\n",
       "    </tr>\n",
       "    <tr>\n",
       "      <th>Oqr5zMLM2H7kJCbdc6A8Yg</th>\n",
       "      <td>-73.572875</td>\n",
       "      <td>45.557148</td>\n",
       "    </tr>\n",
       "    <tr>\n",
       "      <th>H36YxCHOChB1ptvFG4mBgA</th>\n",
       "      <td>-73.609929</td>\n",
       "      <td>45.599547</td>\n",
       "    </tr>\n",
       "    <tr>\n",
       "      <th>fviB5hGwm6phgpkFqD80wA</th>\n",
       "      <td>-73.574366</td>\n",
       "      <td>45.594302</td>\n",
       "    </tr>\n",
       "    <tr>\n",
       "      <th>...</th>\n",
       "      <td>...</td>\n",
       "      <td>...</td>\n",
       "    </tr>\n",
       "    <tr>\n",
       "      <th>g_QywoAtFtZPMdgqfUIC4A</th>\n",
       "      <td>-73.588312</td>\n",
       "      <td>45.473364</td>\n",
       "    </tr>\n",
       "    <tr>\n",
       "      <th>7hPfQAtOrbM0Xzj9hl2wfQ</th>\n",
       "      <td>-73.601329</td>\n",
       "      <td>45.522009</td>\n",
       "    </tr>\n",
       "    <tr>\n",
       "      <th>ffatJsKYCo3uV3osf2MEjQ</th>\n",
       "      <td>-73.760238</td>\n",
       "      <td>45.571415</td>\n",
       "    </tr>\n",
       "    <tr>\n",
       "      <th>OCJnXyn2pYgt_EOHbVo_AA</th>\n",
       "      <td>-73.567118</td>\n",
       "      <td>45.487198</td>\n",
       "    </tr>\n",
       "    <tr>\n",
       "      <th>X1YKyBrHXGXAZ_xZCLcpeQ</th>\n",
       "      <td>-73.828993</td>\n",
       "      <td>45.468382</td>\n",
       "    </tr>\n",
       "    <tr>\n",
       "      <th>vmFktEQkPfujRjNRRuA8Gw</th>\n",
       "      <td>-73.583484</td>\n",
       "      <td>45.523314</td>\n",
       "    </tr>\n",
       "    <tr>\n",
       "      <th>GDTFiF59PtgvABVtAxnGGg</th>\n",
       "      <td>-73.626692</td>\n",
       "      <td>45.471198</td>\n",
       "    </tr>\n",
       "    <tr>\n",
       "      <th>oOuXQgnMTUOUZVnT503cDQ</th>\n",
       "      <td>-73.568708</td>\n",
       "      <td>45.504341</td>\n",
       "    </tr>\n",
       "    <tr>\n",
       "      <th>bC79Tt7wcymEzkfukFIDog</th>\n",
       "      <td>-73.494613</td>\n",
       "      <td>45.500248</td>\n",
       "    </tr>\n",
       "    <tr>\n",
       "      <th>7FCdBwv18UZqNwcuuInSgA</th>\n",
       "      <td>-73.601015</td>\n",
       "      <td>45.535347</td>\n",
       "    </tr>\n",
       "    <tr>\n",
       "      <th>_2SV0T9wUI2YK4rEfeLhMg</th>\n",
       "      <td>-73.571842</td>\n",
       "      <td>45.514486</td>\n",
       "    </tr>\n",
       "    <tr>\n",
       "      <th>M1P6w_TmsP7KVTcbEyAdGw</th>\n",
       "      <td>-73.569591</td>\n",
       "      <td>45.538337</td>\n",
       "    </tr>\n",
       "    <tr>\n",
       "      <th>BG1gRITqMu5k7zMrdI70Tw</th>\n",
       "      <td>-73.648674</td>\n",
       "      <td>45.443447</td>\n",
       "    </tr>\n",
       "    <tr>\n",
       "      <th>1mgQIFFGeUc15_xk2mQDrw</th>\n",
       "      <td>-73.772821</td>\n",
       "      <td>45.561102</td>\n",
       "    </tr>\n",
       "    <tr>\n",
       "      <th>xkmgV0fRlAUQRLskqSgM9A</th>\n",
       "      <td>-73.753714</td>\n",
       "      <td>45.545974</td>\n",
       "    </tr>\n",
       "    <tr>\n",
       "      <th>SixCP_nHQlD2hnwQ5P7_Ew</th>\n",
       "      <td>-73.573039</td>\n",
       "      <td>45.518863</td>\n",
       "    </tr>\n",
       "    <tr>\n",
       "      <th>AIysRggUDSL7BB6CTQ07OQ</th>\n",
       "      <td>-73.580200</td>\n",
       "      <td>45.479933</td>\n",
       "    </tr>\n",
       "    <tr>\n",
       "      <th>SLYaf9zEiez27OkUB1GWHg</th>\n",
       "      <td>-73.594333</td>\n",
       "      <td>45.523876</td>\n",
       "    </tr>\n",
       "    <tr>\n",
       "      <th>PR3oO93KmDYIKS6mZp_Q9A</th>\n",
       "      <td>-73.558450</td>\n",
       "      <td>45.516096</td>\n",
       "    </tr>\n",
       "    <tr>\n",
       "      <th>UOhu2Z50eDHn77RFpBS3Dw</th>\n",
       "      <td>-73.574420</td>\n",
       "      <td>45.499447</td>\n",
       "    </tr>\n",
       "    <tr>\n",
       "      <th>OQhBvw1KWEVdi0YFTW95mQ</th>\n",
       "      <td>-73.576528</td>\n",
       "      <td>45.515867</td>\n",
       "    </tr>\n",
       "    <tr>\n",
       "      <th>fUwaGbBR4c8dxi3-YHGUHg</th>\n",
       "      <td>-73.571365</td>\n",
       "      <td>45.515281</td>\n",
       "    </tr>\n",
       "    <tr>\n",
       "      <th>ze23vJ-iiDP3VkDo6x0rew</th>\n",
       "      <td>-73.542840</td>\n",
       "      <td>45.548386</td>\n",
       "    </tr>\n",
       "    <tr>\n",
       "      <th>uNIl0fFejnVpCcHoXtcBzg</th>\n",
       "      <td>-73.673009</td>\n",
       "      <td>45.522425</td>\n",
       "    </tr>\n",
       "    <tr>\n",
       "      <th>BIshWEOIQ_b8bdZoGXRSFg</th>\n",
       "      <td>-73.555080</td>\n",
       "      <td>45.506514</td>\n",
       "    </tr>\n",
       "    <tr>\n",
       "      <th>c9-zh9b1V-wvxFgicsT7-Q</th>\n",
       "      <td>-73.554350</td>\n",
       "      <td>45.498926</td>\n",
       "    </tr>\n",
       "    <tr>\n",
       "      <th>ajbrCOvh1-xj9IsxdRmdpw</th>\n",
       "      <td>-73.580762</td>\n",
       "      <td>45.522839</td>\n",
       "    </tr>\n",
       "    <tr>\n",
       "      <th>SQNVdXquKrn4f3lTjkKBGg</th>\n",
       "      <td>-73.575198</td>\n",
       "      <td>45.500853</td>\n",
       "    </tr>\n",
       "    <tr>\n",
       "      <th>ZPXghJnhfEnA_pqukVzNHg</th>\n",
       "      <td>-73.574420</td>\n",
       "      <td>45.499447</td>\n",
       "    </tr>\n",
       "    <tr>\n",
       "      <th>0bJnBA0uNB5vqSgUX7TBTA</th>\n",
       "      <td>-73.619990</td>\n",
       "      <td>45.494889</td>\n",
       "    </tr>\n",
       "  </tbody>\n",
       "</table>\n",
       "<p>4942 rows × 2 columns</p>\n",
       "</div>"
      ],
      "text/plain": [
       "                        longitude   latitude\n",
       "business_id                                 \n",
       "lW9Up8oVTWUEut_R6nZG-g -73.544570  45.545073\n",
       "rWmYk-i8EF-g07KnVkdlqQ -73.542120  45.561749\n",
       "RZma06CqXbOIMzTQL-eJFQ -73.635581  45.589137\n",
       "GxfgoiDLfs7HC8C_wFsGPw -73.574577  45.548671\n",
       "e1_MTuBa4LTN1E2RKh53Xg -73.585389  45.555818\n",
       "yLj-pKIc-V530j1G6ySQ2Q -73.552666  45.567943\n",
       "IY5GFZTZCywC0ylKuG9ebA -73.559333  45.540425\n",
       "g8Ja8BKskzmWHX9VH7B2yg -73.566166  45.551943\n",
       "Env21pieyFD60kaC0xbmcg -73.542183  45.584279\n",
       "RySnetMQUJKbbtliTt4Nmw -73.549722  45.559632\n",
       "IYdjcA92wjvM5RtPZ3C7kw -73.559822  45.600332\n",
       "pvbBfLIVJ_5sJXUTAKmkng -73.571050  45.591208\n",
       "A9yOopsy2bQgStF3Y6lSyA -73.539624  45.552822\n",
       "dvXKsHW_WIdRbbE_Jsxx3A -73.548181  45.561379\n",
       "JqlT41fOvgMQnbL_ZhLtZw -73.563716  45.542159\n",
       "lj9PHKl7wKvQTHgFc08E-Q -73.530523  45.603934\n",
       "FefB0Lp2Sz0RMZvtgbiuMw -73.611107  45.598198\n",
       "Hn9aFjT-Up_0AJ8ZuIWTBA -73.591053  45.549392\n",
       "gas4eqbnp_dzdA3kith5XA -73.549423  45.572766\n",
       "Ra8dwM6dGUQszCXiUDPf2A -73.580856  45.595709\n",
       "FRoFkp1YGqziKAk5HAj55w -73.614669  45.560849\n",
       "dIcc2Z7m-JcHHLxwCuyfug -73.594176  45.617234\n",
       "fNlndRtXwA270PSmPKnXfQ -73.550291  45.562381\n",
       "kPFS2EnXDFcddYslkaMqKw -73.561930  45.541350\n",
       "6MSbS90XvNHz8-rUWIg1gA -73.620169  45.557235\n",
       "N-m3nClpkmdmOlQfQKpyIA -73.570672  45.555505\n",
       "z5Hd_UOjwiSEGPmOFlSCJw -73.596630  45.579058\n",
       "Oqr5zMLM2H7kJCbdc6A8Yg -73.572875  45.557148\n",
       "H36YxCHOChB1ptvFG4mBgA -73.609929  45.599547\n",
       "fviB5hGwm6phgpkFqD80wA -73.574366  45.594302\n",
       "...                           ...        ...\n",
       "g_QywoAtFtZPMdgqfUIC4A -73.588312  45.473364\n",
       "7hPfQAtOrbM0Xzj9hl2wfQ -73.601329  45.522009\n",
       "ffatJsKYCo3uV3osf2MEjQ -73.760238  45.571415\n",
       "OCJnXyn2pYgt_EOHbVo_AA -73.567118  45.487198\n",
       "X1YKyBrHXGXAZ_xZCLcpeQ -73.828993  45.468382\n",
       "vmFktEQkPfujRjNRRuA8Gw -73.583484  45.523314\n",
       "GDTFiF59PtgvABVtAxnGGg -73.626692  45.471198\n",
       "oOuXQgnMTUOUZVnT503cDQ -73.568708  45.504341\n",
       "bC79Tt7wcymEzkfukFIDog -73.494613  45.500248\n",
       "7FCdBwv18UZqNwcuuInSgA -73.601015  45.535347\n",
       "_2SV0T9wUI2YK4rEfeLhMg -73.571842  45.514486\n",
       "M1P6w_TmsP7KVTcbEyAdGw -73.569591  45.538337\n",
       "BG1gRITqMu5k7zMrdI70Tw -73.648674  45.443447\n",
       "1mgQIFFGeUc15_xk2mQDrw -73.772821  45.561102\n",
       "xkmgV0fRlAUQRLskqSgM9A -73.753714  45.545974\n",
       "SixCP_nHQlD2hnwQ5P7_Ew -73.573039  45.518863\n",
       "AIysRggUDSL7BB6CTQ07OQ -73.580200  45.479933\n",
       "SLYaf9zEiez27OkUB1GWHg -73.594333  45.523876\n",
       "PR3oO93KmDYIKS6mZp_Q9A -73.558450  45.516096\n",
       "UOhu2Z50eDHn77RFpBS3Dw -73.574420  45.499447\n",
       "OQhBvw1KWEVdi0YFTW95mQ -73.576528  45.515867\n",
       "fUwaGbBR4c8dxi3-YHGUHg -73.571365  45.515281\n",
       "ze23vJ-iiDP3VkDo6x0rew -73.542840  45.548386\n",
       "uNIl0fFejnVpCcHoXtcBzg -73.673009  45.522425\n",
       "BIshWEOIQ_b8bdZoGXRSFg -73.555080  45.506514\n",
       "c9-zh9b1V-wvxFgicsT7-Q -73.554350  45.498926\n",
       "ajbrCOvh1-xj9IsxdRmdpw -73.580762  45.522839\n",
       "SQNVdXquKrn4f3lTjkKBGg -73.575198  45.500853\n",
       "ZPXghJnhfEnA_pqukVzNHg -73.574420  45.499447\n",
       "0bJnBA0uNB5vqSgUX7TBTA -73.619990  45.494889\n",
       "\n",
       "[4942 rows x 2 columns]"
      ]
     },
     "execution_count": 26,
     "metadata": {},
     "output_type": "execute_result"
    }
   ],
   "source": [
    "df.loc[:,('longitude', 'latitude')]"
   ]
  },
  {
   "cell_type": "code",
   "execution_count": 29,
   "metadata": {
    "collapsed": false
   },
   "outputs": [],
   "source": [
    "geoclusters = k_means(df.loc[:,('longitude', 'latitude')], 100)"
   ]
  },
  {
   "cell_type": "code",
   "execution_count": 42,
   "metadata": {
    "collapsed": false
   },
   "outputs": [
    {
     "data": {
      "text/plain": [
       "array([-73.56578814,  45.51651935])"
      ]
     },
     "execution_count": 42,
     "metadata": {},
     "output_type": "execute_result"
    }
   ],
   "source": [
    "geoclusters[0][0] # first element of the first cluster"
   ]
  },
  {
   "cell_type": "code",
   "execution_count": 33,
   "metadata": {
    "collapsed": false
   },
   "outputs": [
    {
     "data": {
      "text/plain": [
       "-14.10552595779863"
      ]
     },
     "execution_count": 33,
     "metadata": {},
     "output_type": "execute_result"
    }
   ],
   "source": [
    "geoclusters[0][1].mean() # meaningless, avging lat and long for one elt"
   ]
  },
  {
   "cell_type": "code",
   "execution_count": 40,
   "metadata": {
    "collapsed": false
   },
   "outputs": [
    {
     "data": {
      "text/html": [
       "<div>\n",
       "<table border=\"1\" class=\"dataframe\">\n",
       "  <thead>\n",
       "    <tr style=\"text-align: right;\">\n",
       "      <th></th>\n",
       "      <th>longitude</th>\n",
       "      <th>latitude</th>\n",
       "      <th>stars</th>\n",
       "    </tr>\n",
       "  </thead>\n",
       "  <tbody>\n",
       "    <tr>\n",
       "      <th>count</th>\n",
       "      <td>4942.000000</td>\n",
       "      <td>4942.000000</td>\n",
       "      <td>4942.000000</td>\n",
       "    </tr>\n",
       "    <tr>\n",
       "      <th>mean</th>\n",
       "      <td>-73.602766</td>\n",
       "      <td>45.510923</td>\n",
       "      <td>3.710036</td>\n",
       "    </tr>\n",
       "    <tr>\n",
       "      <th>std</th>\n",
       "      <td>0.070349</td>\n",
       "      <td>0.031680</td>\n",
       "      <td>0.769009</td>\n",
       "    </tr>\n",
       "    <tr>\n",
       "      <th>min</th>\n",
       "      <td>-73.994516</td>\n",
       "      <td>45.401767</td>\n",
       "      <td>1.000000</td>\n",
       "    </tr>\n",
       "    <tr>\n",
       "      <th>25%</th>\n",
       "      <td>-73.612711</td>\n",
       "      <td>45.496027</td>\n",
       "      <td>3.500000</td>\n",
       "    </tr>\n",
       "    <tr>\n",
       "      <th>50%</th>\n",
       "      <td>-73.578865</td>\n",
       "      <td>45.510540</td>\n",
       "      <td>4.000000</td>\n",
       "    </tr>\n",
       "    <tr>\n",
       "      <th>75%</th>\n",
       "      <td>-73.567498</td>\n",
       "      <td>45.524995</td>\n",
       "      <td>4.500000</td>\n",
       "    </tr>\n",
       "    <tr>\n",
       "      <th>max</th>\n",
       "      <td>-73.450201</td>\n",
       "      <td>45.730644</td>\n",
       "      <td>5.000000</td>\n",
       "    </tr>\n",
       "  </tbody>\n",
       "</table>\n",
       "</div>"
      ],
      "text/plain": [
       "         longitude     latitude        stars\n",
       "count  4942.000000  4942.000000  4942.000000\n",
       "mean    -73.602766    45.510923     3.710036\n",
       "std       0.070349     0.031680     0.769009\n",
       "min     -73.994516    45.401767     1.000000\n",
       "25%     -73.612711    45.496027     3.500000\n",
       "50%     -73.578865    45.510540     4.000000\n",
       "75%     -73.567498    45.524995     4.500000\n",
       "max     -73.450201    45.730644     5.000000"
      ]
     },
     "execution_count": 40,
     "metadata": {},
     "output_type": "execute_result"
    }
   ],
   "source": [
    "df.describe()"
   ]
  },
  {
   "cell_type": "code",
   "execution_count": 43,
   "metadata": {
    "collapsed": false,
    "scrolled": true
   },
   "outputs": [
    {
     "data": {
      "text/plain": [
       "array([[-73.56578814,  45.51651935],\n",
       "       [-73.70282852,  45.4917766 ],\n",
       "       [-73.85839222,  45.45224272],\n",
       "       [-73.62463004,  45.4984731 ],\n",
       "       [-73.74694567,  45.56389035],\n",
       "       [-73.57773752,  45.48102045],\n",
       "       [-73.60899324,  45.53189592],\n",
       "       [-73.57215633,  45.59857181],\n",
       "       [-73.47010657,  45.4532373 ],\n",
       "       [-73.62187475,  45.47134375],\n",
       "       [-73.57709422,  45.53203195],\n",
       "       [-73.79841525,  45.48378011],\n",
       "       [-73.54160601,  45.5488415 ],\n",
       "       [-73.81791163,  45.57080687],\n",
       "       [-73.62972085,  45.54323453],\n",
       "       [-73.46895502,  45.47763263],\n",
       "       [-73.94955603,  45.40537838],\n",
       "       [-73.57391555,  45.49966055],\n",
       "       [-73.680728  ,  45.51215991],\n",
       "       [-73.84469154,  45.63798959],\n",
       "       [-73.65600519,  45.71043099],\n",
       "       [-73.65316215,  45.53395805],\n",
       "       [-73.75201891,  45.45526843],\n",
       "       [-73.78736334,  45.61608385],\n",
       "       [-73.70567015,  45.57693084],\n",
       "       [-73.68286123,  45.43322076],\n",
       "       [-73.55756322,  45.50168846],\n",
       "       [-73.4970113 ,  45.5203103 ],\n",
       "       [-73.60636749,  45.56165772],\n",
       "       [-73.83085751,  45.4695498 ],\n",
       "       [-73.586415  ,  45.51962704],\n",
       "       [-73.63085463,  45.42890147],\n",
       "       [-73.60531172,  45.47638414],\n",
       "       [-73.4924088 ,  45.72107908],\n",
       "       [-73.56784428,  45.4648814 ],\n",
       "       [-73.89141606,  45.56342651],\n",
       "       [-73.74898373,  45.53923964],\n",
       "       [-73.50871801,  45.64647299],\n",
       "       [-73.55326097,  45.50731957],\n",
       "       [-73.65489357,  45.56358562],\n",
       "       [-73.61793255,  45.4425473 ],\n",
       "       [-73.48857607,  45.41401119],\n",
       "       [-73.59467887,  45.54655095],\n",
       "       [-73.57308386,  45.51275253],\n",
       "       [-73.8020427 ,  45.52144177],\n",
       "       [-73.994516  ,  45.525269  ],\n",
       "       [-73.57437637,  45.55058756],\n",
       "       [-73.72583977,  45.60364392],\n",
       "       [-73.72714449,  45.53756282],\n",
       "       [-73.61393038,  45.60000824],\n",
       "       [-73.61192934,  45.54188902],\n",
       "       [-73.59631542,  45.52274685],\n",
       "       [-73.6532124 ,  45.49659732],\n",
       "       [-73.58505138,  45.48989773],\n",
       "       [-73.53942877,  45.58707364],\n",
       "       [-73.50196765,  45.49870754],\n",
       "       [-73.82523982,  45.43148281],\n",
       "       [-73.46250978,  45.5211674 ],\n",
       "       [-73.45958595,  45.58735288],\n",
       "       [-73.73003724,  45.56533533],\n",
       "       [-73.89165992,  45.43463645],\n",
       "       [-73.56912236,  45.50357285],\n",
       "       [-73.69966771,  45.51868233],\n",
       "       [-73.58750084,  45.47410018],\n",
       "       [-73.64018233,  45.45658441],\n",
       "       [-73.9181152 ,  45.6723327 ],\n",
       "       [-73.60675763,  45.52298763],\n",
       "       [-73.53011334,  45.52215574],\n",
       "       [-73.55658292,  45.51920003],\n",
       "       [-73.55184389,  45.56255638],\n",
       "       [-73.58665535,  45.57702141],\n",
       "       [-73.84630346,  45.48698406],\n",
       "       [-73.79116107,  45.45713513],\n",
       "       [-73.73691717,  45.44991216],\n",
       "       [-73.54092055,  45.4675917 ],\n",
       "       [-73.57691656,  45.5197746 ],\n",
       "       [-73.7652475 ,  45.55445693],\n",
       "       [-73.78138175,  45.53212712],\n",
       "       [-73.56936116,  45.45669085],\n",
       "       [-73.76918557,  45.49085932],\n",
       "       [-73.50902692,  45.5367699 ],\n",
       "       [-73.81646535,  45.503765  ],\n",
       "       [-73.57876047,  45.49567651],\n",
       "       [-73.62809772,  45.52600421],\n",
       "       [-73.59620789,  45.45339041],\n",
       "       [-73.56170527,  45.50888337],\n",
       "       [-73.67468435,  45.59056632],\n",
       "       [-73.56202579,  45.53724588],\n",
       "       [-73.66801128,  45.54269055],\n",
       "       [-73.63242586,  45.48597541],\n",
       "       [-73.65984842,  45.46827559],\n",
       "       [-73.80785662,  45.6248095 ],\n",
       "       [-73.87224418,  45.47770102],\n",
       "       [-73.58291642,  45.52508179],\n",
       "       [-73.61552356,  45.53546967],\n",
       "       [-73.60436483,  45.4292484 ],\n",
       "       [-73.56597792,  45.48601272],\n",
       "       [-73.78870059,  45.58532814],\n",
       "       [-73.52650554,  45.50471857],\n",
       "       [-73.60103926,  45.53595639]])"
      ]
     },
     "execution_count": 43,
     "metadata": {},
     "output_type": "execute_result"
    }
   ],
   "source": [
    "geoclusters[0]"
   ]
  },
  {
   "cell_type": "code",
   "execution_count": 52,
   "metadata": {
    "collapsed": false
   },
   "outputs": [
    {
     "name": "stdout",
     "output_type": "stream",
     "text": [
      "-73.652464177\n",
      "45.5211006118\n"
     ]
    }
   ],
   "source": [
    "print geoclusters[0].transpose()[0].mean() # mean long for cluster\n",
    "print geoclusters[0].transpose()[1].mean() # mean lat for cluster"
   ]
  },
  {
   "cell_type": "code",
   "execution_count": 72,
   "metadata": {
    "collapsed": false
   },
   "outputs": [
    {
     "data": {
      "text/plain": [
       "3"
      ]
     },
     "execution_count": 72,
     "metadata": {},
     "output_type": "execute_result"
    }
   ],
   "source": [
    "len(geoclusters)"
   ]
  },
  {
   "cell_type": "code",
   "execution_count": 99,
   "metadata": {
    "collapsed": false
   },
   "outputs": [
    {
     "data": {
      "text/plain": [
       "array([12, 69, 49, ..., 17, 17,  3], dtype=int32)"
      ]
     },
     "execution_count": 99,
     "metadata": {},
     "output_type": "execute_result"
    }
   ],
   "source": [
    "# cluster labels\n",
    "cluster_labels = geoclusters[1]\n",
    "cluster_labels"
   ]
  },
  {
   "cell_type": "code",
   "execution_count": 104,
   "metadata": {
    "collapsed": false
   },
   "outputs": [],
   "source": [
    "# Get the size of each cluster (ie number of members)\n",
    "cluster_sizes = []\n",
    "for i in range(0, 100):\n",
    "    cluster_sizes.append(list(cluster_labels).count(i))"
   ]
  },
  {
   "cell_type": "code",
   "execution_count": 81,
   "metadata": {
    "collapsed": false
   },
   "outputs": [],
   "source": [
    "cluster_centers = geoclusters[0]"
   ]
  },
  {
   "cell_type": "code",
   "execution_count": 109,
   "metadata": {
    "collapsed": false
   },
   "outputs": [
    {
     "data": {
      "text/plain": [
       "<matplotlib.text.Text at 0x10d8280d0>"
      ]
     },
     "execution_count": 109,
     "metadata": {},
     "output_type": "execute_result"
    },
    {
     "data": {
      "image/png": "[encoded data removed]",
      "text/plain": [
       "<matplotlib.figure.Figure at 0x10da59050>"
      ]
     },
     "metadata": {},
     "output_type": "display_data"
    }
   ],
   "source": [
    "plt.figure(figsize=(10,8))\n",
    "plt.scatter(cluster_centers.transpose()[0], cluster_centers.transpose()[1], s=cluster_sizes)\n",
    "plt.xlabel(\"Longitude\")\n",
    "plt.ylabel(\"Latitude\")"
   ]
  },
  {
   "cell_type": "code",
   "execution_count": null,
   "metadata": {
    "collapsed": true
   },
   "outputs": [],
   "source": []
  },
  {
   "cell_type": "code",
   "execution_count": null,
   "metadata": {
    "collapsed": true
   },
   "outputs": [],
   "source": []
  },
  {
   "cell_type": "code",
   "execution_count": null,
   "metadata": {
    "collapsed": true
   },
   "outputs": [],
   "source": [
    "fig = plt.figure(figsize=(20,20))\n",
    "ax = plt.axes()\n",
    "mtlmap = Basemap(ax=ax, projection='cyl', lon_0=-73.5673, lat_0=45.5017,\n",
    "                 llcrnrlon=-73.953833, llcrnrlat=45.401767, urcrnrlon=-73.450201, urcrnrlat=45.730644,\n",
    "                height=60000, width=60000, resolution='l')\n",
    "mtlmap.drawcoastlines()\n",
    "#mtlmap.drawstates()\n",
    "#mtlmap.drawcountries()\n",
    "ind = df['stars']>-1\n",
    "scatt = mtlmap.scatter(df['longitude'][ind], df['latitude'][ind], c=df['stars'][ind], s=50, alpha=0.5)\n",
    "#print xx\n",
    "cbar = mtlmap.colorbar(scatt)\n",
    "cbar.set_label(\"Stars\")"
   ]
  }
 ],
 "metadata": {
  "kernelspec": {
   "display_name": "Python 2",
   "language": "python",
   "name": "python2"
  },
  "language_info": {
   "codemirror_mode": {
    "name": "ipython",
    "version": 2
   },
   "file_extension": ".py",
   "mimetype": "text/x-python",
   "name": "python",
   "nbconvert_exporter": "python",
   "pygments_lexer": "ipython2",
   "version": "2.7.11"
  }
 },
 "nbformat": 4,
 "nbformat_minor": 0
}
